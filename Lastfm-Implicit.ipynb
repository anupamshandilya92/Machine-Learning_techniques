{
 "cells": [
  {
   "cell_type": "code",
   "execution_count": 1,
   "metadata": {},
   "outputs": [],
   "source": [
    "import sys\n",
    "import pandas as pd\n",
    "import numpy as np\n",
    "import scipy.sparse as sparse\n",
    "from scipy.sparse.linalg import spsolve\n",
    "import random\n",
    "\n",
    "from sklearn.preprocessing import MinMaxScaler\n",
    "\n",
    "import implicit"
   ]
  },
  {
   "cell_type": "code",
   "execution_count": 2,
   "metadata": {},
   "outputs": [],
   "source": [
    "\n",
    "raw_data = pd.read_table(r'D:\\Datasets\\Lastfm\\lastfm-dataset-360K\\lastfm-dataset-360K\\usersha1-artmbid-artname-plays.tsv')\n",
    "\n",
    "raw_data = raw_data.drop(raw_data.columns[1], axis=1)\n",
    "raw_data.columns = ['user', 'artist', 'plays']\n",
    "\n",
    "# Drop NaN columns\n",
    "data = raw_data.dropna()\n",
    "data = data.copy()\n",
    "\n",
    "# Create a numeric user_id and artist_id column\n",
    "data['user'] = data['user'].astype(\"category\")\n",
    "data['artist'] = data['artist'].astype(\"category\")\n",
    "data['user_id'] = data['user'].cat.codes\n",
    "data['artist_id'] = data['artist'].cat.codes\n"
   ]
  },
  {
   "cell_type": "code",
   "execution_count": 48,
   "metadata": {},
   "outputs": [
    {
     "data": {
      "text/html": [
       "<div>\n",
       "<style scoped>\n",
       "    .dataframe tbody tr th:only-of-type {\n",
       "        vertical-align: middle;\n",
       "    }\n",
       "\n",
       "    .dataframe tbody tr th {\n",
       "        vertical-align: top;\n",
       "    }\n",
       "\n",
       "    .dataframe thead th {\n",
       "        text-align: right;\n",
       "    }\n",
       "</style>\n",
       "<table border=\"1\" class=\"dataframe\">\n",
       "  <thead>\n",
       "    <tr style=\"text-align: right;\">\n",
       "      <th></th>\n",
       "      <th>user</th>\n",
       "      <th>artist</th>\n",
       "      <th>plays</th>\n",
       "      <th>user_id</th>\n",
       "      <th>artist_id</th>\n",
       "    </tr>\n",
       "  </thead>\n",
       "  <tbody>\n",
       "    <tr>\n",
       "      <td>5773009</td>\n",
       "      <td>547263b31d38e53028f6c8bf93169ed2cb8491dc</td>\n",
       "      <td>jay z</td>\n",
       "      <td>63</td>\n",
       "      <td>118135</td>\n",
       "      <td>147037</td>\n",
       "    </tr>\n",
       "    <tr>\n",
       "      <td>7261601</td>\n",
       "      <td>6a18b635aa70c205a3fe4ee79dda4ad9838dcb8b</td>\n",
       "      <td>jay z</td>\n",
       "      <td>2</td>\n",
       "      <td>148560</td>\n",
       "      <td>147037</td>\n",
       "    </tr>\n",
       "    <tr>\n",
       "      <td>11123910</td>\n",
       "      <td>a2a1df15693ef372f447eedbba1261bc3ed2fb8f</td>\n",
       "      <td>jay z</td>\n",
       "      <td>41</td>\n",
       "      <td>227601</td>\n",
       "      <td>147037</td>\n",
       "    </tr>\n",
       "    <tr>\n",
       "      <td>17481702</td>\n",
       "      <td>ff3184ce8ef9bca2d3f4a1becfeb981799268ec2</td>\n",
       "      <td>jay z</td>\n",
       "      <td>124</td>\n",
       "      <td>357753</td>\n",
       "      <td>147037</td>\n",
       "    </tr>\n",
       "  </tbody>\n",
       "</table>\n",
       "</div>"
      ],
      "text/plain": [
       "                                              user artist  plays  user_id  \\\n",
       "5773009   547263b31d38e53028f6c8bf93169ed2cb8491dc  jay z     63   118135   \n",
       "7261601   6a18b635aa70c205a3fe4ee79dda4ad9838dcb8b  jay z      2   148560   \n",
       "11123910  a2a1df15693ef372f447eedbba1261bc3ed2fb8f  jay z     41   227601   \n",
       "17481702  ff3184ce8ef9bca2d3f4a1becfeb981799268ec2  jay z    124   357753   \n",
       "\n",
       "          artist_id  \n",
       "5773009      147037  \n",
       "7261601      147037  \n",
       "11123910     147037  \n",
       "17481702     147037  "
      ]
     },
     "execution_count": 48,
     "metadata": {},
     "output_type": "execute_result"
    }
   ],
   "source": [
    "data[data.artist=='jay z']"
   ]
  },
  {
   "cell_type": "code",
   "execution_count": 12,
   "metadata": {},
   "outputs": [
    {
     "data": {
      "text/plain": [
       "(17535450, 5)"
      ]
     },
     "execution_count": 12,
     "metadata": {},
     "output_type": "execute_result"
    }
   ],
   "source": [
    "data.shape"
   ]
  },
  {
   "cell_type": "code",
   "execution_count": 11,
   "metadata": {},
   "outputs": [
    {
     "data": {
      "text/plain": [
       "358868"
      ]
     },
     "execution_count": 11,
     "metadata": {},
     "output_type": "execute_result"
    }
   ],
   "source": [
    "len(data.user_id.unique())"
   ]
  },
  {
   "cell_type": "code",
   "execution_count": 13,
   "metadata": {},
   "outputs": [
    {
     "data": {
      "text/plain": [
       "292363"
      ]
     },
     "execution_count": 13,
     "metadata": {},
     "output_type": "execute_result"
    }
   ],
   "source": [
    "len(data.artist_id.unique())"
   ]
  },
  {
   "cell_type": "code",
   "execution_count": 14,
   "metadata": {},
   "outputs": [],
   "source": [
    "\n",
    "# The implicit library expects data as a item-user matrix so we\n",
    "# create two matricies, one for fitting the model (item-user) \n",
    "# and one for recommendations (user-item)\n",
    "sparse_item_user = sparse.csr_matrix((data['plays'].astype(float), (data['artist_id'], data['user_id'])))\n",
    "sparse_user_item = sparse.csr_matrix((data['plays'].astype(float), (data['user_id'], data['artist_id'])))\n"
   ]
  },
  {
   "cell_type": "code",
   "execution_count": 16,
   "metadata": {},
   "outputs": [
    {
     "name": "stderr",
     "output_type": "stream",
     "text": [
      "WARNING:root:Intel MKL BLAS detected. Its highly recommend to set the environment variable 'export MKL_NUM_THREADS=1' to disable its internal multithreading\n"
     ]
    },
    {
     "data": {
      "application/vnd.jupyter.widget-view+json": {
       "model_id": "72dd630dbb654205a5293cf15cf6b723",
       "version_major": 2,
       "version_minor": 0
      },
      "text/plain": [
       "HBox(children=(IntProgress(value=0, max=20), HTML(value='')))"
      ]
     },
     "metadata": {},
     "output_type": "display_data"
    },
    {
     "name": "stdout",
     "output_type": "stream",
     "text": [
      "\n"
     ]
    }
   ],
   "source": [
    "\n",
    "# Initialize the als model and fit it using the sparse item-user matrix\n",
    "model = implicit.als.AlternatingLeastSquares(factors=20, regularization=0.1, iterations=20,use_gpu = True)\n",
    "\n",
    "# Calculate the confidence by multiplying it by our alpha value.\n",
    "alpha_val = 15\n",
    "data_conf = (sparse_item_user * alpha_val).astype('double')\n",
    "\n",
    "#Fit the model\n",
    "model.fit(data_conf)\n",
    "\n",
    " "
   ]
  },
  {
   "cell_type": "code",
   "execution_count": 49,
   "metadata": {},
   "outputs": [
    {
     "name": "stdout",
     "output_type": "stream",
     "text": [
      "jay z\n",
      "dolla\n",
      "big dime\n",
      "all city (boo banga, big rich, san quinn)\n",
      "the roots feat. peedi peedi & dice raw\n",
      "jah cure & fantan mojah\n",
      "cashis\n",
      "japanese cartoon\n",
      "nu jerzey devil\n",
      "freekey zekey\n"
     ]
    }
   ],
   "source": [
    "\n",
    "#---------------------\n",
    "# FIND SIMILAR ITEMS\n",
    "#---------------------\n",
    "\n",
    "# Find the 10 most similar to Jay-Z\n",
    "item_id = 147037 #Jay-Z\n",
    "n_similar = 10\n",
    "\n",
    "# Use implicit to get similar items.\n",
    "similar = model.similar_items(item_id, n_similar)\n",
    "\n",
    "# Print the names of our most similar artists\n",
    "for item in similar:\n",
    "    idx, score = item\n",
    "    print(data.artist.loc[data.artist_id == idx].iloc[0])\n"
   ]
  },
  {
   "cell_type": "code",
   "execution_count": 46,
   "metadata": {},
   "outputs": [
    {
     "name": "stdout",
     "output_type": "stream",
     "text": [
      "                        artist     score\n",
      "0               andrés segovia  0.935877\n",
      "1              giacomo puccini  0.935018\n",
      "2              robert schumann  0.922636\n",
      "3              george gershwin  0.922402\n",
      "4  modest petrovich mussorgsky  0.919025\n",
      "5            felix mendelssohn  0.915398\n",
      "6             daniel barenboim  0.910043\n",
      "7                gustav mahler  0.907797\n",
      "8          the swingle singers  0.907123\n",
      "9           franz joseph haydn  0.903835\n"
     ]
    }
   ],
   "source": [
    "   \n",
    "#------------------------------\n",
    "# CREATE USER RECOMMENDATIONS\n",
    "#------------------------------\n",
    "\n",
    "# Create recommendations for user with id 2025\n",
    "user_id = 199842#2025\n",
    "\n",
    "# Use the implicit recommender.\n",
    "recommended = model.recommend(user_id, sparse_user_item)\n",
    "\n",
    "artists = []\n",
    "scores = []\n",
    "\n",
    "# Get artist names from ids\n",
    "for item in recommended:\n",
    "    idx, score = item\n",
    "    artists.append(data.artist.loc[data.artist_id == idx].iloc[0])\n",
    "    scores.append(score)\n",
    "\n",
    "# Create a dataframe of artist names and scores\n",
    "recommendations = pd.DataFrame({'artist': artists, 'score': scores})\n",
    "\n",
    "print(recommendations)"
   ]
  },
  {
   "cell_type": "code",
   "execution_count": 31,
   "metadata": {},
   "outputs": [
    {
     "data": {
      "text/plain": [
       "array([-12.29312  ,  11.8302555,  -2.51117  ,   4.918436 ,  18.026499 ,\n",
       "         8.100879 ,  -8.643769 ,   5.637821 ,   2.179194 ,  -1.8122557,\n",
       "         7.4441   ,  24.524538 ,  11.792651 ,  -5.2495737,  15.84455  ,\n",
       "        -1.4184906,   7.0281873,  12.075925 ,  11.967903 ,  -1.8662224],\n",
       "      dtype=float32)"
      ]
     },
     "execution_count": 31,
     "metadata": {},
     "output_type": "execute_result"
    }
   ],
   "source": [
    "model.user_factors[0]"
   ]
  },
  {
   "cell_type": "code",
   "execution_count": 33,
   "metadata": {},
   "outputs": [
    {
     "data": {
      "text/plain": [
       "array([ 2.9723791e-05, -2.0016657e-06,  1.3718014e-05, -6.5996092e-06,\n",
       "       -1.1899359e-05,  3.9194965e-06,  6.3422926e-06, -3.1925576e-06,\n",
       "        1.4984930e-05,  2.4186907e-05, -7.9211995e-06,  3.2975693e-06,\n",
       "       -1.9695393e-05,  7.4196182e-06, -8.9416553e-06, -7.3306583e-06,\n",
       "       -1.3895602e-05,  3.9594656e-06,  1.9331051e-06, -3.8779078e-07],\n",
       "      dtype=float32)"
      ]
     },
     "execution_count": 33,
     "metadata": {},
     "output_type": "execute_result"
    }
   ],
   "source": [
    "model.item_factors[0]"
   ]
  },
  {
   "cell_type": "code",
   "execution_count": null,
   "metadata": {},
   "outputs": [],
   "source": []
  }
 ],
 "metadata": {
  "kernelspec": {
   "display_name": "Python 3",
   "language": "python",
   "name": "python3"
  },
  "language_info": {
   "codemirror_mode": {
    "name": "ipython",
    "version": 3
   },
   "file_extension": ".py",
   "mimetype": "text/x-python",
   "name": "python",
   "nbconvert_exporter": "python",
   "pygments_lexer": "ipython3",
   "version": "3.7.4"
  }
 },
 "nbformat": 4,
 "nbformat_minor": 2
}
